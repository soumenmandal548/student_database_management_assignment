{
 "cells": [
  {
   "cell_type": "markdown",
   "id": "7a78bae2-4f00-436e-ae51-8f90a8d8f5c9",
   "metadata": {},
   "source": [
    "Assignment details\n",
    "##### Create a student management system that allows the user to manage student details and perform the following operations\n",
    " - Create a function that takes student details(5 students) in bulk from the user\n",
    "    - name\n",
    "    - roll no ( roll number should be unique)\n",
    "    - subjects ( maths, english, science)\n",
    "    - marks scored in the subjects\n",
    " - create a function to *delete* a record from the student data (via rollno)\n",
    " - create a function to *update* a record from the student data (via rollno)\n",
    " - create a function to *insert* a record from the student data (via rollno)\n",
    " - create a function to print the unique names from the student list\n",
    " - create a function to topper name (person with highest marks) in each subject."
   ]
  },
  {
   "cell_type": "code",
   "execution_count": null,
   "id": "766636f2-44bb-4040-896d-ba1aef7cfa1f",
   "metadata": {},
   "outputs": [],
   "source": []
  }
 ],
 "metadata": {
  "kernelspec": {
   "display_name": "Python 3 (ipykernel)",
   "language": "python",
   "name": "python3"
  },
  "language_info": {
   "codemirror_mode": {
    "name": "ipython",
    "version": 3
   },
   "file_extension": ".py",
   "mimetype": "text/x-python",
   "name": "python",
   "nbconvert_exporter": "python",
   "pygments_lexer": "ipython3",
   "version": "3.12.8"
  }
 },
 "nbformat": 4,
 "nbformat_minor": 5
}
